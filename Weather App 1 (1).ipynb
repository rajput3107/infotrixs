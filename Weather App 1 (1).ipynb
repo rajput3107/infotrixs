{
 "cells": [
  {
   "cell_type": "code",
   "execution_count": 87,
   "id": "50ea68c4",
   "metadata": {},
   "outputs": [
    {
     "name": "stdout",
     "output_type": "stream",
     "text": [
      "Requirement already satisfied: tk in c:\\users\\empires\\anaconda3\\lib\\site-packages (0.1.0)\n"
     ]
    }
   ],
   "source": [
    "!pip install tk\n",
    "from tkinter import *\n",
    "from tkinter import ttk\n",
    "import requests"
   ]
  },
  {
   "cell_type": "code",
   "execution_count": 88,
   "id": "cda9b101",
   "metadata": {},
   "outputs": [],
   "source": [
    "def data_get():\n",
    "    city=city_name.get()\n",
    "    data = requests.get(\"https://api.openweathermap.org/data/2.5/weather?q=\"+city+\"&appid=161d9584f2036fb0d003f1fa6da2cbe5\").json()\n",
    "    w_label1.config(text=data [\"weather\"][0][\"main\"])\n",
    "    wb_label1.config(text=data [\"weather\"] [0] [\"description\"])\n",
    "    temp_label1.config(text=str(int(data[ \"main\"][\"temp\"]-273.15)))\n",
    "    pre_label1.config(text=data[\"main\"][\"pressure\"])"
   ]
  },
  {
   "cell_type": "code",
   "execution_count": 89,
   "id": "39acef97",
   "metadata": {},
   "outputs": [],
   "source": [
    "win = Tk()\n",
    "win.title(\"Weather Forecasting\")\n",
    "win.config(bg=\"blue\")\n",
    "win.geometry(\"500x570\")\n",
    "name_label = Label (win, text=\" Weather Forecasting App\",font=(\"Time New Roman\" ,25,\"bold\"))\n",
    "name_label.place (x=25, y=50, height=50, width=450)\n",
    "\n",
    "city_name=StringVar()\n",
    "\n",
    "list_name=[\"Andhra Pradesh\",\"Manali\",\"Arunachal Pradesh \",\"Assam\",\"Bihar\",\"Chhattisgarh\",\"Goa\",\"Gujarat\",\"Haryana\",\"Himachal Pradesh\",\"Jammu and Kashmir\",\"Jharkhand\",\"Karnataka\",\"Kerala\",\"Madhya Pradesh\",\"Maharashtra\",\"Manipur\",\"Meghalaya\",\"Mizoram\",\"Nagaland\",\"Odisha\",\"Punjab\",\"Rajasthan\",\"Sikkim\",\"Tamil Nadu\",\"Telangana\",\"Tripura\",\"Uttar Pradesh\",\"Uttarakhand\",\"West Bengal\",\"Andaman and Nicobar Islands\",\"Chandigarh\",\"Dadra and Nagar Haveli\",\"Daman and Diu\",\"Lakshadweep\",\"National Capital Territory of Delhi\",\"Puducherry\"]\n",
    "\n",
    "com = ttk.Combobox (win, text= \"Weather Forecasting App\",values=list_name ,font=(\"Time New Roman\",20, \"bold\"),textvariable=city_name)\n",
    "com.place(x=25, y=120, height=50,width=450)\n",
    "\n",
    "w_label = Label(win,text=\"Weather Climate\",font=(\"Time New Ronan\", 20))\n",
    "w_label.place (x=25,y=260, height=50, width=210)\n",
    "w_label1 = Label(win,text=\"\",font=(\"Time New Ronan\", 20))\n",
    "w_label1.place (x=250,y=260, height=50, width=210)\n",
    "\n",
    "wb_label = Label(win, text= \"Weather Deseription\" , font=(\"Time New Ronan\", 16))\n",
    "wb_label.place(x=25, y=330, height=50,width=210)\n",
    "wb_label1 = Label(win, text= \"\" , font=(\"Time New Ronan\", 17))\n",
    "wb_label1.place(x=250, y=330, height=50,width=210)\n",
    "\n",
    "temp_label = Label (win, text= \"Temperature\" , font=(\"Time New Ronan\", 17))\n",
    "temp_label.place (x=25,y=400, height=50, width=210)\n",
    "temp_label1 = Label (win, text= \"\" , font=(\"Time New Ronan\", 17))\n",
    "temp_label1.place (x=250,y=400, height=50, width=210)\n",
    "\n",
    "pre_label = Label (win, text= \"Pressure\" , font=(\"Time New Ronan\", 17))\n",
    "pre_label.place (x=25,y=470, height=50, width=210) \n",
    "pre_label1 = Label (win, text= \"\" , font=(\"Time New Ronan\", 17))\n",
    "pre_label1.place (x=250,y=470, height=50, width=210) \n",
    "\n",
    "done_button = Button(win, text=\"Done\", font=(\"Time New Roman\", 20,\"bold\"),command=data_get)\n",
    "done_button.place(y=190, height=50,width=100,x=200)\n",
    "   \n",
    "win.mainloop()"
   ]
  },
  {
   "cell_type": "code",
   "execution_count": null,
   "id": "d9653b40",
   "metadata": {},
   "outputs": [],
   "source": []
  },
  {
   "cell_type": "code",
   "execution_count": null,
   "id": "9ebec542",
   "metadata": {},
   "outputs": [],
   "source": []
  }
 ],
 "metadata": {
  "kernelspec": {
   "display_name": "Python 3 (ipykernel)",
   "language": "python",
   "name": "python3"
  },
  "language_info": {
   "codemirror_mode": {
    "name": "ipython",
    "version": 3
   },
   "file_extension": ".py",
   "mimetype": "text/x-python",
   "name": "python",
   "nbconvert_exporter": "python",
   "pygments_lexer": "ipython3",
   "version": "3.7.3"
  }
 },
 "nbformat": 4,
 "nbformat_minor": 5
}
